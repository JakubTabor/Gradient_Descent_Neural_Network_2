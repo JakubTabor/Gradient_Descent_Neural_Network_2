{
  "cells": [
    {
      "cell_type": "code",
      "execution_count": 1,
      "metadata": {
        "id": "KPweJ0CFJ4z2"
      },
      "outputs": [],
      "source": [
        "import tensorflow as tf\n",
        "import numpy as np\n",
        "from tensorflow import keras\n",
        "import pandas as pd\n",
        "import matplotlib.pyplot as plt \n",
        "%matplotlib inline "
      ]
    },
    {
      "cell_type": "code",
      "execution_count": 2,
      "metadata": {
        "colab": {
          "base_uri": "https://localhost:8080/",
          "height": 206
        },
        "id": "Go3x5MVcKHr7",
        "outputId": "1d9629ef-eda5-481b-b11e-25997f60f280"
      },
      "outputs": [
        {
          "data": {
            "text/html": [
              "<div>\n",
              "<style scoped>\n",
              "    .dataframe tbody tr th:only-of-type {\n",
              "        vertical-align: middle;\n",
              "    }\n",
              "\n",
              "    .dataframe tbody tr th {\n",
              "        vertical-align: top;\n",
              "    }\n",
              "\n",
              "    .dataframe thead th {\n",
              "        text-align: right;\n",
              "    }\n",
              "</style>\n",
              "<table border=\"1\" class=\"dataframe\">\n",
              "  <thead>\n",
              "    <tr style=\"text-align: right;\">\n",
              "      <th></th>\n",
              "      <th>age</th>\n",
              "      <th>affordibility</th>\n",
              "      <th>bought_insurance</th>\n",
              "    </tr>\n",
              "  </thead>\n",
              "  <tbody>\n",
              "    <tr>\n",
              "      <th>0</th>\n",
              "      <td>22</td>\n",
              "      <td>1</td>\n",
              "      <td>0</td>\n",
              "    </tr>\n",
              "    <tr>\n",
              "      <th>1</th>\n",
              "      <td>25</td>\n",
              "      <td>0</td>\n",
              "      <td>0</td>\n",
              "    </tr>\n",
              "    <tr>\n",
              "      <th>2</th>\n",
              "      <td>47</td>\n",
              "      <td>1</td>\n",
              "      <td>1</td>\n",
              "    </tr>\n",
              "    <tr>\n",
              "      <th>3</th>\n",
              "      <td>52</td>\n",
              "      <td>0</td>\n",
              "      <td>0</td>\n",
              "    </tr>\n",
              "    <tr>\n",
              "      <th>4</th>\n",
              "      <td>46</td>\n",
              "      <td>1</td>\n",
              "      <td>1</td>\n",
              "    </tr>\n",
              "  </tbody>\n",
              "</table>\n",
              "</div>"
            ],
            "text/plain": [
              "   age  affordibility  bought_insurance\n",
              "0   22              1                 0\n",
              "1   25              0                 0\n",
              "2   47              1                 1\n",
              "3   52              0                 0\n",
              "4   46              1                 1"
            ]
          },
          "execution_count": 2,
          "metadata": {},
          "output_type": "execute_result"
        }
      ],
      "source": [
        "df = pd.read_csv('insurance_data.csv')\n",
        "df.head()"
      ]
    },
    {
      "cell_type": "code",
      "execution_count": 3,
      "metadata": {
        "id": "6bbt0RhhLnwu"
      },
      "outputs": [],
      "source": [
        "from sklearn.model_selection import train_test_split\n",
        "X_train, X_test, y_train, y_test = train_test_split(df[['age', 'affordibility']], df.bought_insurance, test_size=0.2, random_state=0)"
      ]
    },
    {
      "cell_type": "code",
      "execution_count": 4,
      "metadata": {
        "id": "aotFcqNGMG3Z"
      },
      "outputs": [],
      "source": [
        "X_train_scaled = X_train.copy()\n",
        "X_train_scaled['age'] = X_train_scaled['age'] / 100\n",
        "\n",
        "X_test_scaled = X_test.copy()\n",
        "X_test_scaled['age'] = X_test_scaled['age'] / 100"
      ]
    },
    {
      "cell_type": "code",
      "execution_count": 5,
      "metadata": {
        "colab": {
          "base_uri": "https://localhost:8080/",
          "height": 237
        },
        "id": "zT9DkX1tMvWb",
        "outputId": "e4c7e629-86f7-4539-9fac-a2c7ecce65d2"
      },
      "outputs": [
        {
          "data": {
            "text/html": [
              "<div>\n",
              "<style scoped>\n",
              "    .dataframe tbody tr th:only-of-type {\n",
              "        vertical-align: middle;\n",
              "    }\n",
              "\n",
              "    .dataframe tbody tr th {\n",
              "        vertical-align: top;\n",
              "    }\n",
              "\n",
              "    .dataframe thead th {\n",
              "        text-align: right;\n",
              "    }\n",
              "</style>\n",
              "<table border=\"1\" class=\"dataframe\">\n",
              "  <thead>\n",
              "    <tr style=\"text-align: right;\">\n",
              "      <th></th>\n",
              "      <th>age</th>\n",
              "      <th>affordibility</th>\n",
              "    </tr>\n",
              "  </thead>\n",
              "  <tbody>\n",
              "    <tr>\n",
              "      <th>2</th>\n",
              "      <td>0.47</td>\n",
              "      <td>1</td>\n",
              "    </tr>\n",
              "    <tr>\n",
              "      <th>22</th>\n",
              "      <td>0.40</td>\n",
              "      <td>1</td>\n",
              "    </tr>\n",
              "    <tr>\n",
              "      <th>14</th>\n",
              "      <td>0.49</td>\n",
              "      <td>1</td>\n",
              "    </tr>\n",
              "    <tr>\n",
              "      <th>17</th>\n",
              "      <td>0.58</td>\n",
              "      <td>1</td>\n",
              "    </tr>\n",
              "    <tr>\n",
              "      <th>5</th>\n",
              "      <td>0.56</td>\n",
              "      <td>1</td>\n",
              "    </tr>\n",
              "    <tr>\n",
              "      <th>11</th>\n",
              "      <td>0.28</td>\n",
              "      <td>1</td>\n",
              "    </tr>\n",
              "  </tbody>\n",
              "</table>\n",
              "</div>"
            ],
            "text/plain": [
              "     age  affordibility\n",
              "2   0.47              1\n",
              "22  0.40              1\n",
              "14  0.49              1\n",
              "17  0.58              1\n",
              "5   0.56              1\n",
              "11  0.28              1"
            ]
          },
          "execution_count": 5,
          "metadata": {},
          "output_type": "execute_result"
        }
      ],
      "source": [
        "X_test_scaled"
      ]
    },
    {
      "cell_type": "code",
      "execution_count": 24,
      "metadata": {
        "colab": {
          "base_uri": "https://localhost:8080/"
        },
        "id": "CCi4xI4FNGyS",
        "outputId": "a39e846e-ed46-4a0e-e2fb-f6d7c7d9bfe5"
      },
      "outputs": [
        {
          "data": {
            "text/plain": [
              "<keras.callbacks.History at 0x1e3ddadc910>"
            ]
          },
          "execution_count": 24,
          "metadata": {},
          "output_type": "execute_result"
        }
      ],
      "source": [
        "model = keras.Sequential([\n",
        "    keras.layers.Dense(1, input_shape = (2,), activation = 'sigmoid', kernel_initializer = 'ones', bias_initializer = 'zeros')\n",
        "])\n",
        "model.compile(optimizer = 'adam',\n",
        "              loss = 'binary_crossentropy',\n",
        "              metrics = ['accuracy'])\n",
        "\n",
        "model.fit(X_train_scaled, y_train, epochs=1000, verbose = 0)"
      ]
    },
    {
      "cell_type": "code",
      "execution_count": 25,
      "metadata": {
        "colab": {
          "base_uri": "https://localhost:8080/"
        },
        "id": "wTwKoGcqOpxm",
        "outputId": "ef3bf0bf-a7ea-424b-a333-519072a3e0c0"
      },
      "outputs": [
        {
          "name": "stdout",
          "output_type": "stream",
          "text": [
            "1/1 [==============================] - 0s 120ms/step - loss: 0.6061 - accuracy: 0.8333\n"
          ]
        },
        {
          "data": {
            "text/plain": [
              "[0.6060981154441833, 0.8333333134651184]"
            ]
          },
          "execution_count": 25,
          "metadata": {},
          "output_type": "execute_result"
        }
      ],
      "source": [
        "model.evaluate(X_test_scaled, y_test)"
      ]
    },
    {
      "cell_type": "code",
      "execution_count": 8,
      "metadata": {
        "colab": {
          "base_uri": "https://localhost:8080/",
          "height": 237
        },
        "id": "z602meVGOyKD",
        "outputId": "07a4b26a-484a-4c15-d5c2-6fbf1e70a75f"
      },
      "outputs": [
        {
          "data": {
            "text/html": [
              "<div>\n",
              "<style scoped>\n",
              "    .dataframe tbody tr th:only-of-type {\n",
              "        vertical-align: middle;\n",
              "    }\n",
              "\n",
              "    .dataframe tbody tr th {\n",
              "        vertical-align: top;\n",
              "    }\n",
              "\n",
              "    .dataframe thead th {\n",
              "        text-align: right;\n",
              "    }\n",
              "</style>\n",
              "<table border=\"1\" class=\"dataframe\">\n",
              "  <thead>\n",
              "    <tr style=\"text-align: right;\">\n",
              "      <th></th>\n",
              "      <th>age</th>\n",
              "      <th>affordibility</th>\n",
              "    </tr>\n",
              "  </thead>\n",
              "  <tbody>\n",
              "    <tr>\n",
              "      <th>2</th>\n",
              "      <td>0.47</td>\n",
              "      <td>1</td>\n",
              "    </tr>\n",
              "    <tr>\n",
              "      <th>22</th>\n",
              "      <td>0.40</td>\n",
              "      <td>1</td>\n",
              "    </tr>\n",
              "    <tr>\n",
              "      <th>14</th>\n",
              "      <td>0.49</td>\n",
              "      <td>1</td>\n",
              "    </tr>\n",
              "    <tr>\n",
              "      <th>17</th>\n",
              "      <td>0.58</td>\n",
              "      <td>1</td>\n",
              "    </tr>\n",
              "    <tr>\n",
              "      <th>5</th>\n",
              "      <td>0.56</td>\n",
              "      <td>1</td>\n",
              "    </tr>\n",
              "    <tr>\n",
              "      <th>11</th>\n",
              "      <td>0.28</td>\n",
              "      <td>1</td>\n",
              "    </tr>\n",
              "  </tbody>\n",
              "</table>\n",
              "</div>"
            ],
            "text/plain": [
              "     age  affordibility\n",
              "2   0.47              1\n",
              "22  0.40              1\n",
              "14  0.49              1\n",
              "17  0.58              1\n",
              "5   0.56              1\n",
              "11  0.28              1"
            ]
          },
          "execution_count": 8,
          "metadata": {},
          "output_type": "execute_result"
        }
      ],
      "source": [
        "X_test_scaled"
      ]
    },
    {
      "cell_type": "code",
      "execution_count": 9,
      "metadata": {
        "colab": {
          "base_uri": "https://localhost:8080/"
        },
        "id": "SeqqEp7ZO-bx",
        "outputId": "5a4cf8f6-47e7-4a9b-f10d-037ee8e84f9d"
      },
      "outputs": [
        {
          "name": "stdout",
          "output_type": "stream",
          "text": [
            "1/1 [==============================] - 0s 89ms/step\n"
          ]
        },
        {
          "data": {
            "text/plain": [
              "array([[0.5522376 ],\n",
              "       [0.5380268 ],\n",
              "       [0.55628324],\n",
              "       [0.5743889 ],\n",
              "       [0.57038087],\n",
              "       [0.5135339 ]], dtype=float32)"
            ]
          },
          "execution_count": 9,
          "metadata": {},
          "output_type": "execute_result"
        }
      ],
      "source": [
        "model.predict(X_test_scaled)"
      ]
    },
    {
      "cell_type": "code",
      "execution_count": 10,
      "metadata": {
        "colab": {
          "base_uri": "https://localhost:8080/"
        },
        "id": "bFUYGgSMPa0g",
        "outputId": "86033bee-fc9c-41fb-f383-b2a714bac296"
      },
      "outputs": [
        {
          "data": {
            "text/plain": [
              "2     1\n",
              "22    1\n",
              "14    1\n",
              "17    1\n",
              "5     1\n",
              "11    0\n",
              "Name: bought_insurance, dtype: int64"
            ]
          },
          "execution_count": 10,
          "metadata": {},
          "output_type": "execute_result"
        }
      ],
      "source": [
        "y_test"
      ]
    },
    {
      "cell_type": "code",
      "execution_count": 12,
      "metadata": {
        "colab": {
          "base_uri": "https://localhost:8080/"
        },
        "id": "xduHLz-oP93X",
        "outputId": "72767279-1d7b-4c65-e981-831dd0acdfc8"
      },
      "outputs": [
        {
          "data": {
            "text/plain": [
              "(array([[0.8187736],\n",
              "        [0.515923 ]], dtype=float32),\n",
              " array([-0.6910309], dtype=float32))"
            ]
          },
          "execution_count": 12,
          "metadata": {},
          "output_type": "execute_result"
        }
      ],
      "source": [
        "coef, intercept = model.get_weights()\n",
        "coef, intercept"
      ]
    },
    {
      "cell_type": "code",
      "execution_count": 15,
      "metadata": {
        "id": "xESI5RKEdNxN"
      },
      "outputs": [],
      "source": [
        "def sigmoid(x):\n",
        "  import math\n",
        "  return 1 / (1 + math.exp(-x))"
      ]
    },
    {
      "cell_type": "code",
      "execution_count": 16,
      "metadata": {
        "id": "A8XlmzPMdjf2"
      },
      "outputs": [],
      "source": [
        "def prediction_function(age, affordibility):\n",
        "  weighted_sum = coef[0] * age + coef[1] * affordibility + intercept\n",
        "  return sigmoid(weighted_sum)"
      ]
    },
    {
      "cell_type": "code",
      "execution_count": 17,
      "metadata": {
        "colab": {
          "base_uri": "https://localhost:8080/"
        },
        "id": "Y3TuIF1reg2y",
        "outputId": "1ae66b44-5c33-450d-fc08-9296cad07920"
      },
      "outputs": [
        {
          "data": {
            "text/plain": [
              "0.5522376026014306"
            ]
          },
          "execution_count": 17,
          "metadata": {},
          "output_type": "execute_result"
        }
      ],
      "source": [
        "prediction_function(0.47 ,1)"
      ]
    },
    {
      "cell_type": "code",
      "execution_count": 18,
      "metadata": {
        "colab": {
          "base_uri": "https://localhost:8080/"
        },
        "id": "AgXf4bKCe0Qg",
        "outputId": "35aa3f42-354a-43b9-9db1-21d41a305840"
      },
      "outputs": [
        {
          "data": {
            "text/plain": [
              "0.53802681844248"
            ]
          },
          "execution_count": 18,
          "metadata": {},
          "output_type": "execute_result"
        }
      ],
      "source": [
        "prediction_function(0.40 ,1)"
      ]
    },
    {
      "cell_type": "code",
      "execution_count": 19,
      "metadata": {
        "id": "Pw9JhVaAsusR"
      },
      "outputs": [],
      "source": [
        "def log_loss(y_true, y_predicted):\n",
        "    epsilon = 1e-15\n",
        "    y_predicted_new = [max(i, epsilon) for i in y_predicted]\n",
        "    y_predicted_new = [min(i, 1 - epsilon) for i in y_predicted_new]\n",
        "    y_predicted_new = np.array(y_predicted_new)\n",
        "    \n",
        "    return -np.mean(y_true * np.log(y_predicted_new) + (1 - y_true) * np.log(1 - y_predicted_new))"
      ]
    },
    {
      "cell_type": "code",
      "execution_count": 20,
      "metadata": {
        "colab": {
          "base_uri": "https://localhost:8080/"
        },
        "id": "dCG_hpQ4uNwR",
        "outputId": "aae2cfda-f5ef-4352-b352-ccdb07f5ed1c"
      },
      "outputs": [
        {
          "data": {
            "text/plain": [
              "array([0.99999386, 0.5       , 0.73105858])"
            ]
          },
          "execution_count": 20,
          "metadata": {},
          "output_type": "execute_result"
        }
      ],
      "source": [
        "def sigmoid_numpy(x):\n",
        "  return 1 / (1 + np.exp(-x))\n",
        "\n",
        "sigmoid_numpy(np.array([12, 0, 1]))"
      ]
    },
    {
      "cell_type": "code",
      "execution_count": 21,
      "metadata": {
        "id": "PkoRL4e2EiZL"
      },
      "outputs": [],
      "source": [
        "class myNN:\n",
        "    def __init__(self): # Here is my constructor\n",
        "        self.w1 = 1 \n",
        "        self.w2 = 1\n",
        "        self.bias = 0\n",
        "        \n",
        "    def fit(self, X, y, epochs, loss_thresold): # Here is my fit method in function, self is always firs argument\n",
        "        self.w1, self.w2, self.bias = self.gradient_descent(X['age'], X['affordibility'], y, epochs, loss_thresold) # It will return me a tuple\n",
        "        print(f\"Final weights and bias : w1: {self.w1}, w2: {self.w2}, bias: {self.bias}\") # So my gradient_descent will return my weights an bias \n",
        "        \n",
        "    def predict(self, X_test): # Its my prediction function\n",
        "        weighted_sum = self.w1 * X_test['age'] + self.w2 * X_test['affordibility'] + self.bias # Its my weighted_sum from pattern  \n",
        "        return sigmoid_numpy(weighted_sum) # And its activated by sigmoid_numpy\n",
        "\n",
        "    def gradient_descent(self, age, affordability, y_true, epochs, loss_thresold): # This function help finding weights\n",
        "        w1 = w2 = 1\n",
        "        bias = 0\n",
        "        learning_rate = 0.5\n",
        "       \n",
        "        n = len(age)\n",
        "        \n",
        "        for i in range(epochs):\n",
        "            weighted_sum = w1 * age + w2 * affordability + bias\n",
        "            y_predicted = sigmoid_numpy(weighted_sum)\n",
        "            loss = log_loss(y_true, y_predicted)\n",
        "            \n",
        "            w1d = (1 / n) * np.dot(np.transpose(age), (y_predicted - y_true)) \n",
        "            w2d = (1 / n) * np.dot(np.transpose(affordability), (y_predicted - y_true)) \n",
        "            bias_d = np.mean(y_predicted - y_true)\n",
        "            \n",
        "            w1 = w1 - learning_rate * w1d\n",
        "            w2 = w2 - learning_rate * w2d\n",
        "            bias = bias - learning_rate * bias_d\n",
        "            \n",
        "            if i%50 == 0: # The lines will be printing every fiftieth epoch\n",
        "                print(f'Epoch : {i}, w1 : {w1}, w2 : {w2}, bias : {bias}, loss : {loss}')\n",
        "            \n",
        "            if loss <= loss_thresold:\n",
        "                print(f'Epoch : {i}, w1 : {w1}, w2 : {w2}, bias : {bias}, loss : {loss}')\n",
        "                break\n",
        "\n",
        "        return w1, w2, bias\n",
        "  "
      ]
    },
    {
      "cell_type": "code",
      "execution_count": 23,
      "metadata": {
        "colab": {
          "base_uri": "https://localhost:8080/"
        },
        "id": "qr-lxXRrERwV",
        "outputId": "a7ed4b59-8960-4416-d84c-974a33b08497"
      },
      "outputs": [
        {
          "name": "stdout",
          "output_type": "stream",
          "text": [
            "Epoch : 0, w1 : 0.9644915668168719, w2 : 0.9224250019701857, bias : -0.1521744437835525, loss : 0.7960362503355486\n",
            "Epoch : 8, w1 : 0.8978991061148435, w2 : 0.6612102292494013, bias : -0.796166156177148, loss : 0.6115548071590621\n",
            "Final weights and bias : w1: 0.8978991061148435, w2: 0.6612102292494013, bias: -0.796166156177148\n"
          ]
        }
      ],
      "source": [
        "customModel = myNN() # I create object of my class \n",
        "customModel.fit(X_train_scaled, y_train, epochs = 500, loss_thresold = 0.6163) # Here is my fit method"
      ]
    },
    {
      "cell_type": "code",
      "execution_count": 26,
      "metadata": {
        "colab": {
          "base_uri": "https://localhost:8080/"
        },
        "id": "6zCFO8JmN0M8",
        "outputId": "6fec6745-e2f5-496d-a03a-1b413376a635"
      },
      "outputs": [
        {
          "data": {
            "text/plain": [
              "(array([[0.8187736],\n",
              "        [0.515923 ]], dtype=float32),\n",
              " array([-0.6910309], dtype=float32))"
            ]
          },
          "execution_count": 26,
          "metadata": {},
          "output_type": "execute_result"
        }
      ],
      "source": [
        "coef, intercept # It is comaparation with my keras model"
      ]
    },
    {
      "cell_type": "code",
      "execution_count": 27,
      "metadata": {
        "colab": {
          "base_uri": "https://localhost:8080/"
        },
        "id": "mNuNHobTN2ux",
        "outputId": "14f01a69-d89c-4676-aa80-2d86e33a26e5"
      },
      "outputs": [
        {
          "data": {
            "text/plain": [
              "2     0.571275\n",
              "22    0.555817\n",
              "14    0.575668\n",
              "17    0.595277\n",
              "5     0.590944\n",
              "11    0.529081\n",
              "dtype: float64"
            ]
          },
          "execution_count": 27,
          "metadata": {},
          "output_type": "execute_result"
        }
      ],
      "source": [
        "customModel.predict(X_test_scaled) # And here is prediction comparation with my keras model"
      ]
    },
    {
      "cell_type": "code",
      "execution_count": 28,
      "metadata": {
        "colab": {
          "base_uri": "https://localhost:8080/"
        },
        "id": "GqmiUDxNO9Ow",
        "outputId": "a838bf58-c40f-4b8a-804c-e2bc65a725dd"
      },
      "outputs": [
        {
          "name": "stdout",
          "output_type": "stream",
          "text": [
            "1/1 [==============================] - 0s 54ms/step\n"
          ]
        },
        {
          "data": {
            "text/plain": [
              "array([[0.5522376 ],\n",
              "       [0.5380268 ],\n",
              "       [0.55628324],\n",
              "       [0.5743889 ],\n",
              "       [0.57038087],\n",
              "       [0.5135339 ]], dtype=float32)"
            ]
          },
          "execution_count": 28,
          "metadata": {},
          "output_type": "execute_result"
        }
      ],
      "source": [
        "model.predict(X_test_scaled)"
      ]
    }
  ],
  "metadata": {
    "colab": {
      "provenance": []
    },
    "kernelspec": {
      "display_name": "Python 3",
      "name": "python3"
    },
    "language_info": {
      "codemirror_mode": {
        "name": "ipython",
        "version": 3
      },
      "file_extension": ".py",
      "mimetype": "text/x-python",
      "name": "python",
      "nbconvert_exporter": "python",
      "pygments_lexer": "ipython3",
      "version": "3.10.9"
    }
  },
  "nbformat": 4,
  "nbformat_minor": 0
}
