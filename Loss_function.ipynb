{
  "cells": [
    {
      "cell_type": "code",
      "execution_count": 1,
      "metadata": {
        "id": "UdKasLXI1BLn"
      },
      "outputs": [],
      "source": [
        "import numpy as np\n",
        "\n",
        "y_pred = np.array([1,1,0,0,1])\n",
        "y_true = np.array([0.30,0.7,1,0,0.5])"
      ]
    },
    {
      "cell_type": "markdown",
      "metadata": {},
      "source": [
        "# First I gonna create two numpy arrays one with true and one with predicted values"
      ]
    },
    {
      "cell_type": "markdown",
      "metadata": {},
      "source": [
        "# Then i create function that return mean od absolute value"
      ]
    },
    {
      "cell_type": "code",
      "execution_count": 2,
      "metadata": {
        "id": "8iI51jRu3vBp"
      },
      "outputs": [],
      "source": [
        "def mean_absolute_value(y_true, y_pred): # Its absolute difference between my true value and predicted value\n",
        "  total_error = 0\n",
        "  for yt, yp in zip(y_true, y_pred): # It will give one value from this two arrays \n",
        "    total_error += abs(yt - yp) # Here it will give me absolute difference and add it to my total_error\n",
        "  print(\"Total error\", total_error)\n",
        "  mean_absolute_value = total_error / len(y_true) # It will return mean of my value\n",
        "  print(\"Mae\", mean_absolute_value)\n",
        "\n",
        "  return mean_absolute_value"
      ]
    },
    {
      "cell_type": "code",
      "execution_count": 36,
      "metadata": {
        "colab": {
          "base_uri": "https://localhost:8080/"
        },
        "id": "bzaw5QEWDSpa",
        "outputId": "629c80b4-213c-4725-d16f-6222d26bf9d8"
      },
      "outputs": [
        {
          "name": "stdout",
          "output_type": "stream",
          "text": [
            "Total error 2.5\n",
            "Mae 0.5\n"
          ]
        },
        {
          "data": {
            "text/plain": [
              "0.5"
            ]
          },
          "execution_count": 36,
          "metadata": {},
          "output_type": "execute_result"
        }
      ],
      "source": [
        "mean_absolute_value(y_pred, y_true)"
      ]
    },
    {
      "cell_type": "code",
      "execution_count": 37,
      "metadata": {
        "colab": {
          "base_uri": "https://localhost:8080/"
        },
        "id": "Ay5Wl0hWEbXh",
        "outputId": "f8f117a3-d0e2-48d7-90d5-cbae8dc17447"
      },
      "outputs": [
        {
          "data": {
            "text/plain": [
              "array([0.7, 0.3, 1. , 0. , 0.5])"
            ]
          },
          "execution_count": 37,
          "metadata": {},
          "output_type": "execute_result"
        }
      ],
      "source": [
        "np.abs(y_pred - y_true)"
      ]
    },
    {
      "cell_type": "markdown",
      "metadata": {},
      "source": [
        "# I recreate it using numpy"
      ]
    },
    {
      "cell_type": "code",
      "execution_count": 38,
      "metadata": {
        "colab": {
          "base_uri": "https://localhost:8080/"
        },
        "id": "brjAjqxbEmMh",
        "outputId": "61920cc4-0fd4-4bcb-8b60-6df78d69d2bf"
      },
      "outputs": [
        {
          "data": {
            "text/plain": [
              "0.5"
            ]
          },
          "execution_count": 38,
          "metadata": {},
          "output_type": "execute_result"
        }
      ],
      "source": [
        " np.mean(np.abs(y_pred - y_true)) # With use of numpy it look like this "
      ]
    },
    {
      "cell_type": "code",
      "execution_count": 2,
      "metadata": {},
      "outputs": [
        {
          "data": {
            "text/plain": [
              "2.5"
            ]
          },
          "execution_count": 2,
          "metadata": {},
          "output_type": "execute_result"
        }
      ],
      "source": [
        "np.sum(np.abs(y_pred - y_true)) # It is total error"
      ]
    },
    {
      "cell_type": "code",
      "execution_count": 39,
      "metadata": {
        "id": "ykZAcVsiFVc-"
      },
      "outputs": [],
      "source": [
        "epsilon = 1e-15 # its value very close to zero but not zero np. (0.0000001) | log(0) is undefined so we need to use epsilon\n"
      ]
    },
    {
      "cell_type": "code",
      "execution_count": 44,
      "metadata": {
        "colab": {
          "base_uri": "https://localhost:8080/"
        },
        "id": "CTumjSk_FcvI",
        "outputId": "a9a4538a-b687-4602-9eee-e8fa33fc98b2"
      },
      "outputs": [
        {
          "data": {
            "text/plain": [
              "[1, 1, 1e-15, 1e-15, 1]"
            ]
          },
          "execution_count": 44,
          "metadata": {},
          "output_type": "execute_result"
        }
      ],
      "source": [
        "y_pred_new = [max(i,epsilon)for i in y_pred] #It will return value very close to 0 but not 0\n",
        "y_pred_new"
      ]
    },
    {
      "cell_type": "code",
      "execution_count": 45,
      "metadata": {
        "colab": {
          "base_uri": "https://localhost:8080/"
        },
        "id": "O6q-L9GOOVHj",
        "outputId": "cd0dfd5b-55cf-4961-eb4d-31c69a557f2e"
      },
      "outputs": [
        {
          "data": {
            "text/plain": [
              "[0.999999999999999, 0.999999999999999, 1e-15, 1e-15, 0.999999999999999]"
            ]
          },
          "execution_count": 45,
          "metadata": {},
          "output_type": "execute_result"
        }
      ],
      "source": [
        "y_pred_new = [min(i,1 - epsilon)for i in y_pred_new] # It will return value very close to 1 but not 1\n",
        "y_pred_new"
      ]
    },
    {
      "cell_type": "code",
      "execution_count": 46,
      "metadata": {
        "colab": {
          "base_uri": "https://localhost:8080/"
        },
        "id": "QAc3nCJlO-6G",
        "outputId": "9f5d0749-4ecb-4a3c-d342-c81affee6640"
      },
      "outputs": [
        {
          "data": {
            "text/plain": [
              "array([-9.99200722e-16, -9.99200722e-16, -3.45387764e+01, -3.45387764e+01,\n",
              "       -9.99200722e-16])"
            ]
          },
          "execution_count": 46,
          "metadata": {},
          "output_type": "execute_result"
        }
      ],
      "source": [
        "y_pred_new = np.array(y_pred_new)\n",
        "np.log(y_pred_new)"
      ]
    },
    {
      "cell_type": "markdown",
      "metadata": {},
      "source": [
        "# Then I write log loss in python"
      ]
    },
    {
      "attachments": {
        "Log_loss_pattern.png": {
          "image/png": "[encoded data removed]"
        }
      },
      "cell_type": "markdown",
      "metadata": {},
      "source": [
        "![Log_loss_pattern.png](attachment:Log_loss_pattern.png)"
      ]
    },
    {
      "cell_type": "code",
      "execution_count": 47,
      "metadata": {
        "colab": {
          "base_uri": "https://localhost:8080/"
        },
        "id": "EXAfJL47PR_j",
        "outputId": "1f2bfb69-2751-4b7f-99bd-56ebe8951548"
      },
      "outputs": [
        {
          "data": {
            "text/plain": [
              "17.2696280766844"
            ]
          },
          "execution_count": 47,
          "metadata": {},
          "output_type": "execute_result"
        }
      ],
      "source": [
        "-np.mean(y_true * np.log(y_pred_new) + (1 - y_true) * np.log(1 - y_pred_new)) # Here is my log loss | binary cross entropy, Its from the formula"
      ]
    },
    {
      "cell_type": "markdown",
      "metadata": {},
      "source": [
        "# Next i write all function which return me log loss"
      ]
    },
    {
      "cell_type": "code",
      "execution_count": 51,
      "metadata": {
        "id": "5V_0p7C9TSeH"
      },
      "outputs": [],
      "source": [
        "def log_loss(y_true, y_pred): # Here i put all of my previous calculations into function\n",
        "  y_pred_new = [max(i,epsilon)for i in y_pred]\n",
        "  y_pred_new = [min(i,1-epsilon)for i in y_pred_new]\n",
        "  y_pred_new = np.array(y_pred_new)\n",
        "\n",
        "  return -np.mean(y_true * np.log(y_pred_new) + (1 - y_true) * np.log(1 - y_pred_new))"
      ]
    },
    {
      "cell_type": "code",
      "execution_count": 52,
      "metadata": {
        "colab": {
          "base_uri": "https://localhost:8080/"
        },
        "id": "JiL6rrYcUcRV",
        "outputId": "dda0634f-043e-47e6-cd16-7ca7fb4ea728"
      },
      "outputs": [
        {
          "data": {
            "text/plain": [
              "17.2696280766844"
            ]
          },
          "execution_count": 52,
          "metadata": {},
          "output_type": "execute_result"
        }
      ],
      "source": [
        "log_loss(y_true, y_pred)"
      ]
    },
    {
      "cell_type": "markdown",
      "metadata": {},
      "source": [
        "# I also write function that return mean squared error"
      ]
    },
    {
      "attachments": {
        "mean_squared_error.png": {
          "image/png": "[encoded data removed]"
        }
      },
      "cell_type": "markdown",
      "metadata": {},
      "source": [
        "![mean_squared_error.png](attachment:mean_squared_error.png)"
      ]
    },
    {
      "cell_type": "code",
      "execution_count": 62,
      "metadata": {
        "id": "NMrGsQKBV4QA"
      },
      "outputs": [],
      "source": [
        "def mean_squared_error(y_true, y_pred): # Here is my function for (mean_squared_error)\n",
        "  total_error = 0\n",
        "  for yt, yp in zip(y_true, y_pred): # i use list comprehension \n",
        "    total_error += (yt-yp)**2 # It is squared error of my difference (yt-yp)    \n",
        "  print(\"Total squared error: \", total_error)\n",
        "  mean_equared_error = total_error / len(y_true) # And here it return mean of my value\n",
        "  print(\"Mean squared error\", mean_squared_error)\n",
        "\n",
        "  return mean_squared_error"
      ]
    },
    {
      "cell_type": "code",
      "execution_count": 63,
      "metadata": {
        "colab": {
          "base_uri": "https://localhost:8080/"
        },
        "id": "CLUv80opXJla",
        "outputId": "5407ad88-29fb-4cfa-827c-e63ce292da58"
      },
      "outputs": [
        {
          "name": "stdout",
          "output_type": "stream",
          "text": [
            "Total squared error:  1.83\n",
            "Mean squared error 0.366\n"
          ]
        },
        {
          "data": {
            "text/plain": [
              "0.366"
            ]
          },
          "execution_count": 63,
          "metadata": {},
          "output_type": "execute_result"
        }
      ],
      "source": [
        "mean_squared_error(y_true, y_pred)"
      ]
    },
    {
      "cell_type": "markdown",
      "metadata": {},
      "source": [
        "# And then recreation in numpy version"
      ]
    },
    {
      "cell_type": "code",
      "execution_count": 64,
      "metadata": {
        "colab": {
          "base_uri": "https://localhost:8080/"
        },
        "id": "lZ6dT4CjXwb5",
        "outputId": "024e5255-254e-4ca4-a035-2728ba5799b9"
      },
      "outputs": [
        {
          "data": {
            "text/plain": [
              "0.366"
            ]
          },
          "execution_count": 64,
          "metadata": {},
          "output_type": "execute_result"
        }
      ],
      "source": [
        "np.mean(np.square(y_true-y_pred)) # In numpy it look like that "
      ]
    }
  ],
  "metadata": {
    "colab": {
      "provenance": []
    },
    "kernelspec": {
      "display_name": "Python 3",
      "name": "python3"
    },
    "language_info": {
      "codemirror_mode": {
        "name": "ipython",
        "version": 3
      },
      "file_extension": ".py",
      "mimetype": "text/x-python",
      "name": "python",
      "nbconvert_exporter": "python",
      "pygments_lexer": "ipython3",
      "version": "3.11.5"
    }
  },
  "nbformat": 4,
  "nbformat_minor": 0
}
